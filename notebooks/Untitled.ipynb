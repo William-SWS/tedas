{
 "cells": [
  {
   "cell_type": "code",
   "execution_count": 2,
   "id": "8f61786f-f285-4433-94c6-678f24e83ca5",
   "metadata": {},
   "outputs": [],
   "source": [
    "import pandas as pd\n",
    "import time\n",
    "from sklearn.feature_selection import mutual_info_classif\n",
    "import numpy as np\n"
   ]
  },
  {
   "cell_type": "code",
   "execution_count": 7,
   "id": "7255c049-b34b-4950-9d7f-f97566ba5df0",
   "metadata": {},
   "outputs": [
    {
     "name": "stdout",
     "output_type": "stream",
     "text": [
      "CPU times: user 6.39 s, sys: 2.3 s, total: 8.69 s\n",
      "Wall time: 8.84 s\n"
     ]
    },
    {
     "data": {
      "text/plain": [
       "<bound method NDFrame.head of          subject_id   hadm_id   stay_id            charttime    fc   pas  \\\n",
       "0          10000032  29079034  39553978  2180-07-23 14:11:00   NaN  84.0   \n",
       "1          10000032  29079034  39553978  2180-07-23 14:12:00  91.0   NaN   \n",
       "2          10000032  29079034  39553978  2180-07-23 14:13:00   NaN   NaN   \n",
       "3          10000032  29079034  39553978  2180-07-23 14:30:00  93.0  95.0   \n",
       "4          10000032  29079034  39553978  2180-07-23 15:00:00  94.0  88.0   \n",
       "...             ...       ...       ...                  ...   ...   ...   \n",
       "2169830    19999987  23865745  36195440  2145-11-04 10:40:00   NaN   NaN   \n",
       "2169831    19999987  23865745  36195440  2145-11-05 06:10:00   NaN   NaN   \n",
       "2169832    19999987  23865745  36195440  2145-11-06 10:07:00   NaN   NaN   \n",
       "2169833    19999987  23865745  36195440  2145-11-07 06:00:00   NaN   NaN   \n",
       "2169834    19999987  23865745  36195440  2145-11-09 05:30:00   NaN   NaN   \n",
       "\n",
       "          pad   pam    fr   spo  ...   leu    pla  ph  uri  hem  ida   pes  \\\n",
       "0        48.0  56.0   NaN   NaN  ...   NaN    NaN NaN  NaN  NaN   52  39.4   \n",
       "1         NaN   NaN  24.0   NaN  ...   NaN    NaN NaN  NaN  NaN   52  39.4   \n",
       "2         NaN   NaN   NaN  98.0  ...   NaN    NaN NaN  NaN  NaN   52  39.4   \n",
       "3        59.0  67.0  21.0  97.0  ...   NaN    NaN NaN  NaN  NaN   52  39.4   \n",
       "4        56.0  64.0  23.0  97.0  ...   NaN    NaN NaN  NaN  NaN   52  39.4   \n",
       "...       ...   ...   ...   ...  ...   ...    ...  ..  ...  ...  ...   ...   \n",
       "2169830   NaN   NaN   NaN   NaN  ...  12.6  120.0 NaN  NaN  NaN   57  94.0   \n",
       "2169831   NaN   NaN   NaN   NaN  ...  12.3  135.0 NaN  NaN  NaN   57  94.0   \n",
       "2169832   NaN   NaN   NaN   NaN  ...  12.7  141.0 NaN  NaN  NaN   57  94.0   \n",
       "2169833   NaN   NaN   NaN   NaN  ...  11.5  129.0 NaN  NaN  NaN   57  94.0   \n",
       "2169834   NaN   NaN   NaN   NaN  ...  12.3  129.0 NaN  NaN  NaN   57  94.0   \n",
       "\n",
       "           alt  sexo  tem_sepse  \n",
       "0        152.0     F          0  \n",
       "1        152.0     F          0  \n",
       "2        152.0     F          0  \n",
       "3        152.0     F          0  \n",
       "4        152.0     F          0  \n",
       "...        ...   ...        ...  \n",
       "2169830    NaN     F          0  \n",
       "2169831    NaN     F          0  \n",
       "2169832    NaN     F          0  \n",
       "2169833    NaN     F          0  \n",
       "2169834    NaN     F          0  \n",
       "\n",
       "[2169835 rows x 23 columns]>"
      ]
     },
     "execution_count": 7,
     "metadata": {},
     "output_type": "execute_result"
    }
   ],
   "source": [
    "%%time\n",
    "df = pd.read_csv(\"/home/william/projetos/tedas/data/raw/mimic_iv_ext_onto_sepse_v1.csv\")\n",
    "df.head"
   ]
  },
  {
   "cell_type": "markdown",
   "id": "a75246e3-1b5a-40e2-952c-7a83bdbcac27",
   "metadata": {},
   "source": [
    "### Vendo quais as colunas do dataset"
   ]
  },
  {
   "cell_type": "code",
   "execution_count": 10,
   "id": "5ac324e8-a307-4d64-a631-3628979a5207",
   "metadata": {},
   "outputs": [
    {
     "name": "stdout",
     "output_type": "stream",
     "text": [
      "['subject_id', 'hadm_id', 'stay_id', 'charttime', 'fc', 'pas', 'pad', 'pam', 'fr', 'spo', 'tem', 'cre', 'lac', 'leu', 'pla', 'ph', 'uri', 'hem', 'ida', 'pes', 'alt', 'sexo', 'tem_sepse']\n"
     ]
    }
   ],
   "source": [
    "colunas = list(df.columns)\n",
    "print(colunas)"
   ]
  },
  {
   "cell_type": "markdown",
   "id": "453f1cf2-6f1d-47da-9857-7aba62175463",
   "metadata": {},
   "source": [
    "#### Identificando e eliminando duplicatas"
   ]
  },
  {
   "cell_type": "code",
   "execution_count": 17,
   "id": "7cdcce7e-eee9-404f-a223-c1e875ca4776",
   "metadata": {},
   "outputs": [
    {
     "name": "stdout",
     "output_type": "stream",
     "text": [
      "0          False\n",
      "1          False\n",
      "2          False\n",
      "3          False\n",
      "4          False\n",
      "           ...  \n",
      "2169830    False\n",
      "2169831    False\n",
      "2169832    False\n",
      "2169833    False\n",
      "2169834    False\n",
      "Length: 2169835, dtype: bool\n",
      "----------------------------------------------------------------------------------------------------\n",
      "Tempo de execução: 3.26 segundos\n",
      "----------------------------------------------------------------------------------------------------\n"
     ]
    }
   ],
   "source": [
    "start_time = time.time()\n",
    "duplicatas = df.duplicated()\n",
    "print(duplicatas)\n",
    "end_time = time.time()\n",
    "print(\"-\"*100)\n",
    "elapsed_time = end_time - start_time  \n",
    "print(f\"Tempo de execução: {elapsed_time:.2f} segundos\")\n",
    "print(\"-\"*100)\n"
   ]
  },
  {
   "cell_type": "code",
   "execution_count": null,
   "id": "9d1bbb25-c84a-4a7d-b001-5c94d6ecbf49",
   "metadata": {},
   "outputs": [],
   "source": [
    "\n",
    "\n",
    "# Definindo a função de avaliação para o ACO\n",
    "def evaluate_features(selected_features, X, y):\n",
    "    # Calcula a relevância das características selecionadas usando mutual information\n",
    "    if len(selected_features) == 0:\n",
    "        return 0\n",
    "    X_selected = X[:, selected_features]\n",
    "    score = mutual_info_classif(X_selected, y).mean()\n",
    "    return score\n",
    "\n",
    "# Implementação simplificada do ACO para seleção de características\n",
    "def ant_colony_feature_selection(X, y, n_ants=10, n_iterations=20, alpha=1, beta=1, evaporation_rate=0.5):\n",
    "    n_features = X.shape[1]\n",
    "    pheromone = np.ones(n_features)  # Inicializa os feromônios\n",
    "    best_features = []\n",
    "    best_score = -np.inf\n",
    "\n",
    "    for iteration in range(n_iterations):\n",
    "        all_solutions = []\n",
    "        all_scores = []\n",
    "\n",
    "        for ant in range(n_ants):\n",
    "            # Seleção de características baseada em probabilidade\n",
    "            probabilities = pheromone ** alpha\n",
    "            probabilities /= probabilities.sum()\n",
    "            selected_features = np.random.choice(range(n_features), size=np.random.randint(1, n_features), replace=False, p=probabilities)\n",
    "            score = evaluate_features(selected_features, X, y)\n",
    "            all_solutions.append(selected_features)\n",
    "            all_scores.append(score)\n",
    "\n",
    "            # Atualiza o melhor conjunto de características\n",
    "            if score > best_score:\n",
    "                best_score = score\n",
    "                best_features = selected_features\n",
    "\n",
    "        # Atualização dos feromônios\n",
    "        pheromone *= (1 - evaporation_rate)\n",
    "        for solution, score in zip(all_solutions, all_scores):\n",
    "            for feature in solution:\n",
    "                pheromone[feature] += score\n",
    "\n",
    "    return best_features, best_score\n",
    "\n",
    "# Exemplo de uso\n",
    "X = df.iloc[:, :-1].values  # Supondo que a última coluna seja o alvo\n",
    "y = df.iloc[:, -1].values\n",
    "\n",
    "best_features, best_score = ant_colony_feature_selection(X, y)\n",
    "print(\"Melhores características selecionadas:\", best_features)\n",
    "print(\"Melhor pontuação:\", best_score)"
   ]
  }
 ],
 "metadata": {
  "kernelspec": {
   "display_name": "tedas",
   "language": "python",
   "name": "python3"
  },
  "language_info": {
   "codemirror_mode": {
    "name": "ipython",
    "version": 3
   },
   "file_extension": ".py",
   "mimetype": "text/x-python",
   "name": "python",
   "nbconvert_exporter": "python",
   "pygments_lexer": "ipython3",
   "version": "3.12.7"
  }
 },
 "nbformat": 4,
 "nbformat_minor": 5
}
